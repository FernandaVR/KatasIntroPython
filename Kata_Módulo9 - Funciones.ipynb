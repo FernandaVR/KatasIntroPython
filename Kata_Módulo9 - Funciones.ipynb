{
 "cells": [
  {
   "cell_type": "markdown",
   "metadata": {},
   "source": [
    "# Functions"
   ]
  },
  {
   "cell_type": "markdown",
   "metadata": {},
   "source": [
    "## Arguments in functions"
   ]
  },
  {
   "cell_type": "code",
   "execution_count": null,
   "metadata": {},
   "outputs": [],
   "source": [
    "def fuel_readings(tank1, tank2, tank3):\n",
    "    average = (tank1 + tank2 + tank3)/3\n",
    "    return f\"\"\"Fuel report:\n",
    "    First tank: {tank1} \n",
    "    Secondary tank: {tank2}\n",
    "    Tertiary tank: {tank3}\n",
    "    On average: {average}\"\"\""
   ]
  },
  {
   "cell_type": "markdown",
   "metadata": {},
   "source": [
    "Calling the function that generates the report"
   ]
  },
  {
   "cell_type": "code",
   "execution_count": null,
   "metadata": {},
   "outputs": [],
   "source": [
    "print(fuel_readings(94,36,75))"
   ]
  },
  {
   "cell_type": "markdown",
   "metadata": {},
   "source": [
    "Average function"
   ]
  },
  {
   "cell_type": "code",
   "execution_count": null,
   "metadata": {},
   "outputs": [],
   "source": [
    "def average(fuel):\n",
    "    avg=sum(fuel)/len(fuel)\n",
    "    return avg"
   ]
  },
  {
   "cell_type": "code",
   "execution_count": null,
   "metadata": {},
   "outputs": [],
   "source": [
    "average([94,36,75])"
   ]
  },
  {
   "cell_type": "markdown",
   "metadata": {},
   "source": [
    "Updating the function"
   ]
  },
  {
   "cell_type": "code",
   "execution_count": null,
   "metadata": {},
   "outputs": [],
   "source": [
    "def fuel_readings(tank1, tank2, tank3):\n",
    "    return f\"\"\"Fuel report:\n",
    "    First tank: {tank1} \n",
    "    Secondary tank: {tank2}\n",
    "    Tertiary tank: {tank3}\n",
    "    On average: {average([tank1, tank2, tank3])}\"\"\"\n",
    "\n",
    "print(fuel_readings(46,58,27))"
   ]
  },
  {
   "cell_type": "markdown",
   "metadata": {},
   "source": [
    "## Key word arguments in functions"
   ]
  },
  {
   "cell_type": "code",
   "execution_count": null,
   "metadata": {},
   "outputs": [],
   "source": [
    "def report(pre_launch_time, flight_time, destiny, etank, itank):\n",
    "    return f\"\"\"Mision report:\n",
    "    Time to destination: {pre_launch_time+flight_time}\n",
    "    Fuel: {etank+itank}\n",
    "    Destiny: {destiny}\"\"\""
   ]
  },
  {
   "cell_type": "markdown",
   "metadata": {},
   "source": [
    "Adjusting the function to be more flexible"
   ]
  },
  {
   "cell_type": "code",
   "execution_count": null,
   "metadata": {},
   "outputs": [],
   "source": [
    "def report(destiny, *minutes, **fuel_reservoirs):\n",
    "    return f\"\"\"Mision report:\n",
    "    Time to destination: {sum(minutes)}\n",
    "    Fuel: {sum(fuel_reservoirs.values())}\n",
    "    Destiny: {destiny}\"\"\""
   ]
  },
  {
   "cell_type": "markdown",
   "metadata": {},
   "source": [
    "Adjusting tank information"
   ]
  },
  {
   "cell_type": "code",
   "execution_count": null,
   "metadata": {},
   "outputs": [],
   "source": [
    "def report(destiny, *minutes, **fuel_reservoirs):\n",
    "    proper_report=f\"\"\"Mision report:\n",
    "    Destiny: {destiny}\n",
    "    Time to destination: {sum(minutes)}\n",
    "    Fuel: {sum(fuel_reservoirs.values())}\\n\"\"\"\n",
    "    for tank, quantity in fuel_reservoirs.items():\n",
    "        proper_report += f\"\\t{tank} tank: {quantity}\\n\"\n",
    "    return proper_report"
   ]
  }
 ],
 "metadata": {
  "interpreter": {
   "hash": "69eb92836b941e979072a76c7fcfffe5419cca933cedd02cfafbdfca1a93358c"
  },
  "kernelspec": {
   "display_name": "Python 3.9.10 64-bit",
   "language": "python",
   "name": "python3"
  },
  "language_info": {
   "codemirror_mode": {
    "name": "ipython",
    "version": 3
   },
   "file_extension": ".py",
   "mimetype": "text/x-python",
   "name": "python",
   "nbconvert_exporter": "python",
   "pygments_lexer": "ipython3",
   "version": "3.9.10"
  },
  "orig_nbformat": 4
 },
 "nbformat": 4,
 "nbformat_minor": 2
}
