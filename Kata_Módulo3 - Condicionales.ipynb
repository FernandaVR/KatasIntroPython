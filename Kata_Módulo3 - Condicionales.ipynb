{
 "cells": [
  {
   "cell_type": "markdown",
   "metadata": {},
   "source": [
    "# Sistema de advertencias de asteroides\n",
    "Este es un programa que decidirá si es importante cuidarse de algún asteroide o, por el contrario, si vale la pena observarlo."
   ]
  },
  {
   "cell_type": "markdown",
   "metadata": {},
   "source": [
    "## Advertencia de velocidad de asteroides\n",
    "Un asteroide se acerca a una velocidad de 49 Km/s. Cualquier velocidad que supere los 25 Km/s es peligrosa."
   ]
  },
  {
   "cell_type": "code",
   "execution_count": null,
   "metadata": {},
   "outputs": [],
   "source": [
    "asteroide=49\n",
    "if asteroide>25:\n",
    "    print('Advertencia: ¡Se aproxima un asteroide con una velocidad de '+str(asteroide)+' Km/s!')\n",
    "else: print('¡Hurra, no hay advertencias aquí!')"
   ]
  },
  {
   "cell_type": "markdown",
   "metadata": {},
   "source": [
    "## Advertencia de estelas formadas por asteroides\n",
    "Un asteroide con una velocidad mayor o igual los 20Km/s puede emitir un rayo de luz al entrar en la atmósfera de la tierra. Ahora mismo se acerca uno a una velocidad de 19Km/s."
   ]
  },
  {
   "cell_type": "code",
   "execution_count": null,
   "metadata": {},
   "outputs": [],
   "source": [
    "asteroide=19\n",
    "if asteroide>25:\n",
    "    print('Advertencia: ¡Se aproxima un asteroide con una velocidad de '+str(asteroide)+' Km/s!')\n",
    "elif asteroide>=20:\n",
    "    print('Advertencia: ¡Se podrá apreciar una estela de luz en el cielo, asegúrate de verla!')\n",
    "else: print('¡Hurra, no hay advertencias aquí!')"
   ]
  },
  {
   "cell_type": "markdown",
   "metadata": {},
   "source": [
    "## Sistema avanzado de advertencias\n",
    "Evalúa detalladamente las características de cada asteroide. ¡Ahora incluye información sobre la dimensión de los asteroides!"
   ]
  },
  {
   "cell_type": "code",
   "execution_count": null,
   "metadata": {},
   "outputs": [],
   "source": [
    "tasteroide=22 #tasteroide satands for: tamaño del asteroide\n",
    "asteroide=20 #Esta variable se queda así porque siempre ha servido para velocidades\n",
    "if tasteroide>25 or asteroide>25:\n",
    "    print('Advertencia: ¡Se aproxima un asteroide peligroso!')\n",
    "elif asteroide>=20:\n",
    "    print('Advertencia: ¡Se podrá apreciar una estela de luz en el cielo, asegúrate de verla!')\n",
    "else: print('¡Hurra, no hay advertencias aquí!')\n",
    "\n",
    "#Luego de comparar mis resultados con las soluciones ví que en este último ejercicio se usa and en vez de\n",
    "#or, pero me parece que funciona mejor con or, ya que, se asegura de que los asteroides \"peligrosos\" sean\n",
    "#alertados independientemente de la velocidad o el tamaño, pues el problema con el and es que, si pones la\n",
    "#velocidad en 1000Km/s y el tamaño en 10m, te sigue saliendo la advertencia del rayo. :)"
   ]
  }
 ],
 "metadata": {
  "interpreter": {
   "hash": "528358c8cad9903a5d8683291042511e857e485b1c71ce7a6727ac497f28b23f"
  },
  "kernelspec": {
   "display_name": "Python 3.9.10 64-bit (windows store)",
   "language": "python",
   "name": "python3"
  },
  "language_info": {
   "codemirror_mode": {
    "name": "ipython",
    "version": 3
   },
   "file_extension": ".py",
   "mimetype": "text/x-python",
   "name": "python",
   "nbconvert_exporter": "python",
   "pygments_lexer": "ipython3",
   "version": "3.9.10"
  },
  "orig_nbformat": 4
 },
 "nbformat": 4,
 "nbformat_minor": 2
}
